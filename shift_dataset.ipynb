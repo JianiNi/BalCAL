{
 "cells": [
  {
   "cell_type": "code",
   "execution_count": null,
   "metadata": {},
   "outputs": [
    {
     "name": "stdout",
     "output_type": "stream",
     "text": [
      "Downloading https://zenodo.org/records/2535967/files/CIFAR-10-C.tar to data/CIFAR-10-C/CIFAR-10-C.tar\n"
     ]
    },
    {
     "name": "stderr",
     "output_type": "stream",
     "text": [
      "100%|██████████| 2918471680/2918471680 [07:24<00:00, 6571733.32it/s] \n"
     ]
    },
    {
     "name": "stdout",
     "output_type": "stream",
     "text": [
      "Extracting data/CIFAR-10-C/CIFAR-10-C.tar to data/CIFAR-10-C\n",
      "Downloading https://zenodo.org/records/2535967/files/CIFAR-10-C.tar to data/CIFAR-10-C/CIFAR-10-C/CIFAR-10-C.tar\n"
     ]
    },
    {
     "name": "stderr",
     "output_type": "stream",
     "text": [
      "100%|██████████| 2918471680/2918471680 [07:29<00:00, 6495173.28it/s] \n"
     ]
    },
    {
     "name": "stdout",
     "output_type": "stream",
     "text": [
      "Extracting data/CIFAR-10-C/CIFAR-10-C/CIFAR-10-C.tar to data/CIFAR-10-C/CIFAR-10-C\n"
     ]
    }
   ],
   "source": [
    "from torch_uncertainty.datasets.classification import CIFAR10C\n",
    "\n",
    "root_dir = './data/CIFAR-10-C/'\n",
    "\n",
    "cifar10c_dataset = CIFAR10C(\n",
    "    root=root_dir, \n",
    "    transform=None,          \n",
    "    target_transform=None,  \n",
    "    subset='all',           \n",
    "    severity=1,            \n",
    "    download=True        \n",
    ")\n",
    "\n",
    "cifar10c_dataset.download()\n"
   ]
  },
  {
   "cell_type": "code",
   "execution_count": null,
   "metadata": {},
   "outputs": [],
   "source": [
    "import tarfile\n",
    "import os\n",
    "\n",
    "tar_file_path = './data/CIFAR-100-C/CIFAR-100-C.tar'\n",
    "extract_dir = './data/CIFAR-100-C/'\n",
    "\n",
    "if not os.path.exists(extract_dir):\n",
    "    os.makedirs(extract_dir)\n",
    "\n",
    "with tarfile.open(tar_file_path, 'r') as tar:\n",
    "    tar.extractall(path=extract_dir)\n",
    "\n",
    "print(f'CIFAR-100-C: {extract_dir}')\n"
   ]
  }
 ],
 "metadata": {
  "kernelspec": {
   "display_name": "base",
   "language": "python",
   "name": "python3"
  },
  "language_info": {
   "codemirror_mode": {
    "name": "ipython",
    "version": 3
   },
   "file_extension": ".py",
   "mimetype": "text/x-python",
   "name": "python",
   "nbconvert_exporter": "python",
   "pygments_lexer": "ipython3",
   "version": "3.10.14"
  }
 },
 "nbformat": 4,
 "nbformat_minor": 2
}
